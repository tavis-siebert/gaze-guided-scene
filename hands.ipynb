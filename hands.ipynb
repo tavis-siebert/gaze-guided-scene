{
 "cells": [
  {
   "cell_type": "code",
   "execution_count": 14,
   "id": "455b6caf-7370-49f4-ac5a-ed97672a6e8d",
   "metadata": {},
   "outputs": [],
   "source": [
    "import av\n",
    "import os\n",
    "\n",
    "base_dir = '/cluster/scratch/jkulik/egtea_gaze/raw_videos'\n",
    "\n",
    "def is_broken_video(path):\n",
    "    try:\n",
    "        with av.open(path) as container:\n",
    "            for frame in container.decode(video=0):\n",
    "                break  # we only need to confirm it can decode at least one frame\n",
    "        return False\n",
    "    except:\n",
    "        return True\n",
    "\n",
    "for root, dirs, files in os.walk(base_dir):\n",
    "    for file in files:\n",
    "        if file.endswith('.mp4'):\n",
    "            full_path = os.path.join(root, file)\n",
    "            if is_broken_video(full_path):\n",
    "                print(f\"Deleting broken video: {full_path}\")\n",
    "                # os.remove(full_path)\n"
   ]
  },
  {
   "cell_type": "code",
   "execution_count": null,
   "id": "1b38f901-8c8e-48f3-9ce6-84de6504e38c",
   "metadata": {},
   "outputs": [],
   "source": []
  }
 ],
 "metadata": {
  "kernelspec": {
   "display_name": "venv",
   "language": "python",
   "name": "venv"
  },
  "language_info": {
   "codemirror_mode": {
    "name": "ipython",
    "version": 3
   },
   "file_extension": ".py",
   "mimetype": "text/x-python",
   "name": "python",
   "nbconvert_exporter": "python",
   "pygments_lexer": "ipython3",
   "version": "3.11.6"
  }
 },
 "nbformat": 4,
 "nbformat_minor": 5
}
